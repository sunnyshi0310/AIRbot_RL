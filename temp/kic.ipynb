{
 "cells": [
  {
   "cell_type": "markdown",
   "metadata": {},
   "source": [
    "# Koopman with inputs and control\n",
    "\n",
    "KIC"
   ]
  },
  {
   "cell_type": "code",
   "execution_count": null,
   "metadata": {},
   "outputs": [],
   "source": [
    "import numpy as np\n",
    "import matplotlib.pyplot as plt\n",
    "np.set_printoptions(precision=4, suppress=True, linewidth=300)"
   ]
  },
  {
   "cell_type": "markdown",
   "metadata": {},
   "source": [
    "## Example 1—Linear system with inputs"
   ]
  },
  {
   "cell_type": "code",
   "execution_count": 70,
   "metadata": {},
   "outputs": [
    {
     "name": "stdout",
     "output_type": "stream",
     "text": [
      "[[ 5.      0.5     0.05    0.005   0.0005]\n",
      " [ 2.      3.      4.4833  6.7114 10.0675]\n",
      " [ 0.     -0.0167 -0.0136  0.0004 -0.0073]]\n",
      "[[ 0.5     0.05    0.005   0.0005  0.0001]\n",
      " [ 3.      4.4833  6.7114 10.0675 15.0939]\n",
      " [-0.0167 -0.0136  0.0004 -0.0073  0.006 ]]\n",
      "[[ 0.1     0.      0.    ]\n",
      " [ 0.      1.5     1.    ]\n",
      " [-0.0036  0.0003  0.3719]]\n"
     ]
    }
   ],
   "source": [
    "\"\"\" \n",
    "The random disturbances for the input are generated with zero \n",
    "mean and gaussian distributed with a variance of 0.01.\n",
    "\"\"\"\n",
    "\n",
    "class Lswi:\n",
    "    def __init__(self):\n",
    "        mu = 0.1\n",
    "        ld = 1.5\n",
    "        dt = 1.\n",
    "        self.G = np.array([\n",
    "            [mu, 0., 0.],\n",
    "            [0., ld, dt],\n",
    "            [0., 0., 0.],\n",
    "        ])\n",
    "    \n",
    "    def propagate(self, y):\n",
    "        return self.G @ y.reshape((3,1))\n",
    "\n",
    "y = np.array([5., 2., 0.])\n",
    "lsys = Lswi()\n",
    "ylst = [y.tolist()]\n",
    "for i in range(5):\n",
    "    y = lsys.propagate(y) + np.array([0., 0., np.random.normal(0, 0.01, 1)[0]]).reshape((3,1))\n",
    "    ylst.append(y.flatten().tolist())\n",
    "\n",
    "Y = np.array(ylst[:-1]).T\n",
    "Z = np.array(ylst[1:]).T\n",
    "print(Y)\n",
    "print(Z)\n",
    "\n",
    "A = Z @ np.linalg.pinv(Y)\n",
    "print(A)"
   ]
  },
  {
   "cell_type": "code",
   "execution_count": 65,
   "metadata": {},
   "outputs": [
    {
     "name": "stdout",
     "output_type": "stream",
     "text": [
      "[[ 5.      0.5     0.05    0.005   0.0005]\n",
      " [ 2.      3.      1.5     0.75    0.375 ]\n",
      " [ 0.     -3.     -1.5    -0.75   -0.375 ]]\n",
      "[[ 0.5     0.05    0.005   0.0005  0.0001]\n",
      " [ 3.      1.5     0.75    0.375   0.1875]\n",
      " [-3.     -1.5    -0.75   -0.375  -0.1875]]\n",
      "[[ 0.1 -0.  -0. ]\n",
      " [-0.   1.5  1. ]\n",
      " [ 0.  -1.5 -1. ]]\n"
     ]
    }
   ],
   "source": [
    "lsys2 = Lswi()\n",
    "lsys2.G[2,1] = -1\n",
    "\n",
    "y = np.array([5., 2., 0.])\n",
    "ylst = [y.tolist()]\n",
    "for i in range(5):\n",
    "    # y = lsys2.propagate(y) + np.array([0., 0., np.random.normal(0, 0.01, 1)[0]]).reshape((3,1))\n",
    "    y = lsys2.propagate(y)\n",
    "    y[2] = -1 * y[1]\n",
    "    ylst.append(y.flatten().tolist())\n",
    "\n",
    "Y = np.array(ylst[:-1]).T\n",
    "Z = np.array(ylst[1:]).T\n",
    "print(Y)\n",
    "print(Z)\n",
    "\n",
    "A = Z @ np.linalg.pinv(Y)\n",
    "print(A)"
   ]
  },
  {
   "cell_type": "code",
   "execution_count": 72,
   "metadata": {},
   "outputs": [
    {
     "name": "stdout",
     "output_type": "stream",
     "text": [
      "[[ 5.      0.5     0.05    0.005   0.0005]\n",
      " [ 2.      4.      6.99   11.4651 18.1679]\n",
      " [ 1.      0.99    0.9801  0.9703  0.9606]]\n",
      "[[ 0.5     0.05    0.005   0.0005  0.0001]\n",
      " [ 4.      6.99   11.4651 18.1679 28.2125]\n",
      " [ 0.99    0.9801  0.9703  0.9606  0.951 ]]\n",
      "[[ 0.1   0.    0.  ]\n",
      " [ 0.    1.5   1.  ]\n",
      " [-0.    0.    0.99]]\n"
     ]
    }
   ],
   "source": [
    "lsys3 = Lswi()\n",
    "lsys3.G[2,2] = 0.99\n",
    "\n",
    "y = np.array([5., 2., 1.])\n",
    "ylst = [y.tolist()]\n",
    "for i in range(5):\n",
    "    y = lsys3.propagate(y)\n",
    "    ylst.append(y.flatten().tolist())\n",
    "\n",
    "Y = np.array(ylst[:-1]).T\n",
    "Z = np.array(ylst[1:]).T\n",
    "print(Y)\n",
    "print(Z)\n",
    "\n",
    "A = Z @ np.linalg.pinv(Y)\n",
    "print(A)"
   ]
  },
  {
   "cell_type": "markdown",
   "metadata": {},
   "source": [
    "## Example 2—Nonlinear system with inputs"
   ]
  },
  {
   "cell_type": "code",
   "execution_count": 78,
   "metadata": {},
   "outputs": [
    {
     "name": "stdout",
     "output_type": "stream",
     "text": [
      "[[ 5.      5.1     5.202   5.306   5.4122  5.5204  5.6308  5.7434  5.8583  5.9755  6.095   6.2169  6.3412  6.468   6.5974]\n",
      " [ 2.      1.885   1.7644  1.6379  1.5053  1.3664  1.2208  1.0684  0.9088  0.7418  0.5669  0.384   0.1927 -0.0074 -0.2166]\n",
      " [25.     26.01   27.0608 28.1541 29.2915 30.4749 31.706  32.987  34.3196 35.7062 37.1487 38.6495 40.2109 41.8355 43.5256]]\n",
      "[[ 5.1     5.202   5.306   5.4122  5.5204  5.6308  5.7434  5.8583  5.9755  6.095   6.2169  6.3412  6.468   6.5974  6.7293]\n",
      " [ 1.885   1.7644  1.6379  1.5053  1.3664  1.2208  1.0684  0.9088  0.7418  0.5669  0.384   0.1927 -0.0074 -0.2166 -0.4353]\n",
      " [26.01   27.0608 28.1541 29.2915 30.4749 31.706  32.987  34.3196 35.7062 37.1487 38.6495 40.2109 41.8355 43.5256 45.284 ]]\n",
      "[[ 1.02   -0.     -0.    ]\n",
      " [ 0.      1.005  -0.005 ]\n",
      " [-0.      0.      1.0404]]\n",
      "[[ 1.02   0.     0.   ]\n",
      " [ 0.     1.005 -0.005]\n",
      " [ 0.     0.     1.04 ]]\n"
     ]
    }
   ],
   "source": [
    "class NLSwI:\n",
    "    def __init__(self):\n",
    "        mu = 2.0\n",
    "        ld = 0.5\n",
    "        self.dt = 2.0\n",
    "        self.G = np.array([\n",
    "            [mu, 0.,  0.  ],\n",
    "            [0., ld, -ld  ],\n",
    "            [0., 0., 2.*mu],\n",
    "        ])\n",
    "        self.Gn = np.eye(3) + self.G * 0.01\n",
    "\n",
    "    def propagate(self, y, u):\n",
    "        yn = self.Gn @ y.reshape((3,1))\n",
    "        yn[1] += self.dt * u\n",
    "        return yn\n",
    "\n",
    "nlsys = NLSwI()\n",
    "\n",
    "y = np.array([5., 2., 25.])\n",
    "ylst = [y.tolist()]\n",
    "for i in range(15):\n",
    "    y = nlsys.propagate(y, 0)\n",
    "    y[2] = y[0] ** 2 \n",
    "    ylst.append(y.flatten().tolist())\n",
    "\n",
    "Y = np.array(ylst[:-1]).T\n",
    "Z = np.array(ylst[1:]).T\n",
    "print(Y)\n",
    "print(Z)\n",
    "\n",
    "A = Z @ np.linalg.pinv(Y)\n",
    "print(A)\n",
    "print(nlsys.Gn)"
   ]
  }
 ],
 "metadata": {
  "kernelspec": {
   "display_name": "Python 3",
   "language": "python",
   "name": "python3"
  },
  "language_info": {
   "codemirror_mode": {
    "name": "ipython",
    "version": 3
   },
   "file_extension": ".py",
   "mimetype": "text/x-python",
   "name": "python",
   "nbconvert_exporter": "python",
   "pygments_lexer": "ipython3",
   "version": "3.8.10"
  },
  "orig_nbformat": 4,
  "vscode": {
   "interpreter": {
    "hash": "916dbcbb3f70747c44a77c7bcd40155683ae19c65e1c03b4aa3499c5328201f1"
   }
  }
 },
 "nbformat": 4,
 "nbformat_minor": 2
}
